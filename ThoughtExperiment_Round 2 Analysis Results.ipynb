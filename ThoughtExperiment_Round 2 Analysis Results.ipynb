{
 "cells": [
  {
   "cell_type": "code",
   "execution_count": 23,
   "id": "335da37c",
   "metadata": {},
   "outputs": [],
   "source": [
    "#Team Though Experiment\n",
    "import pandas as pd\n",
    "import numpy as np\n",
    "import sklearn as sk\n",
    "import matplotlib.pyplot as plt\n",
    "import seaborn as sns\n",
    "import xgboost as xgb\n",
    "from sklearn.model_selection import train_test_split, RandomizedSearchCV, KFold\n",
    "from sklearn.linear_model import LogisticRegression\n",
    "from sklearn.metrics import accuracy_score, confusion_matrix, classification_report\n",
    "from sklearn import metrics\n",
    "from sklearn.ensemble import RandomForestClassifier, ExtraTreesClassifier, AdaBoostClassifier\n",
    "from sklearn import preprocessing\n",
    "from sklearn.preprocessing import StandardScaler, OneHotEncoder\n",
    "from sklearn.pipeline import make_pipeline\n",
    "from sklearn.datasets import make_classification\n",
    "from sklearn.tree import DecisionTreeClassifier\n",
    "from scipy import stats\n",
    "from scipy.signal import welch"
   ]
  },
  {
   "cell_type": "code",
   "execution_count": 2,
   "id": "2b6e15aa",
   "metadata": {},
   "outputs": [],
   "source": [
    "dftr = pd.read_csv(r'C:\\Users\\aveng\\Downloads\\mergedtrain\\merged.csv')"
   ]
  },
  {
   "cell_type": "code",
   "execution_count": 3,
   "id": "0ce1eb52",
   "metadata": {},
   "outputs": [],
   "source": [
    "dfte = pd.read_csv(r'C:\\Users\\aveng\\Downloads\\mergedtest\\mergedtest.csv')"
   ]
  },
  {
   "cell_type": "code",
   "execution_count": 4,
   "id": "221538b2",
   "metadata": {},
   "outputs": [],
   "source": [
    "dftr_values = dftr['5000']\n",
    "dfte_values = dfte['5000']\n",
    "dftr = dftr.drop('5000', axis = 1)\n",
    "dfte = dfte.drop('5000', axis = 1)"
   ]
  },
  {
   "cell_type": "code",
   "execution_count": 5,
   "id": "c0c8053e",
   "metadata": {},
   "outputs": [],
   "source": [
    "def impute_outliers(series):\n",
    "    mean_val = series.mean()\n",
    "    std_val = series.std()\n",
    "    \n",
    "    lower_bound = mean_val - 3 * std_val\n",
    "    upper_bound = mean_val + 3 * std_val\n",
    "    \n",
    "    # Replace outliers with values within the specified range\n",
    "    series[series < lower_bound] = lower_bound\n",
    "    series[series > upper_bound] = upper_bound\n",
    "    return series"
   ]
  },
  {
   "cell_type": "code",
   "execution_count": 6,
   "id": "55c780aa",
   "metadata": {},
   "outputs": [],
   "source": [
    "dftr_numeric = dftr.select_dtypes(include=[np.number])\n",
    "dftr_imputed = dftr_numeric.apply(impute_outliers)\n",
    "dftr = dftr_imputed"
   ]
  },
  {
   "cell_type": "code",
   "execution_count": 7,
   "id": "8265159c",
   "metadata": {},
   "outputs": [],
   "source": [
    "dfte_numeric = dfte.select_dtypes(include=[np.number])\n",
    "dfte_imputed = dfte_numeric.apply(impute_outliers)\n",
    "dfte = dfte_imputed"
   ]
  },
  {
   "cell_type": "code",
   "execution_count": 8,
   "id": "67985644",
   "metadata": {},
   "outputs": [],
   "source": [
    "delta_band = (1,4)\n",
    "theta_band = (5,9)\n",
    "low_beta_band = (10,20)\n",
    "high_beta_band = (21,40)"
   ]
  },
  {
   "cell_type": "code",
   "execution_count": 9,
   "id": "753490c3",
   "metadata": {},
   "outputs": [],
   "source": [
    "def calculate_band_power(eeg_data, sf, band):\n",
    "    freqs, psd = welch(eeg_data, sf, nperseg=10*sf)  # Using 10 seconds for segment length\n",
    "    band_freqs = (freqs >= band[0]) & (freqs <= band[1])\n",
    "    band_power = np.trapz(psd[band_freqs], freqs[band_freqs])\n",
    "    return band_power"
   ]
  },
  {
   "cell_type": "code",
   "execution_count": 10,
   "id": "f5e8ab6b",
   "metadata": {},
   "outputs": [],
   "source": [
    "dftr[\"delta_power\"] = dftr.apply(lambda x: calculate_band_power(x, 500, delta_band), axis=1)\n",
    "dftr[\"theta_power\"] = dftr.apply(lambda x: calculate_band_power(x, 500, theta_band), axis=1)\n",
    "dftr[\"low_beta_power\"] = dftr.apply(lambda x: calculate_band_power(x, 500, low_beta_band), axis=1)\n",
    "dftr[\"high_beta_power\"] = dftr.apply(lambda x: calculate_band_power(x, 500, high_beta_band), axis=1)\n",
    "dftr[\"theta_to_delta_ratio\"] = dftr.apply(lambda x: x[\"theta_power\"] / x[\"delta_power\"], axis = 1)\n",
    "dftr[\"low_beta_to_delta_ratio\"] = dftr.apply(lambda x: x[\"low_beta_power\"] / x[\"delta_power\"], axis = 1)\n",
    "dftr[\"high_beta_to_delta_ratio\"] = dftr.apply(lambda x: x[\"high_beta_power\"] / x[\"delta_power\"], axis = 1)"
   ]
  },
  {
   "cell_type": "code",
   "execution_count": 11,
   "id": "fcc55e13",
   "metadata": {},
   "outputs": [],
   "source": [
    "dfte[\"delta_power\"] = dfte.apply(lambda x: calculate_band_power(x, 500, delta_band), axis=1)\n",
    "dfte[\"theta_power\"] = dfte.apply(lambda x: calculate_band_power(x, 500, theta_band), axis=1)\n",
    "dfte[\"low_beta_power\"] = dfte.apply(lambda x: calculate_band_power(x, 500, low_beta_band), axis=1)\n",
    "dfte[\"high_beta_power\"] = dfte.apply(lambda x: calculate_band_power(x, 500, high_beta_band), axis=1)\n",
    "dfte[\"theta_to_delta_ratio\"] = dfte.apply(lambda x: x[\"theta_power\"] / x[\"delta_power\"], axis = 1)\n",
    "dfte[\"low_beta_to_delta_ratio\"] = dfte.apply(lambda x: x[\"low_beta_power\"] / x[\"delta_power\"], axis = 1)\n",
    "dfte[\"high_beta_to_delta_ratio\"] = dfte.apply(lambda x: x[\"high_beta_power\"] / x[\"delta_power\"], axis = 1)"
   ]
  },
  {
   "cell_type": "code",
   "execution_count": 14,
   "id": "107a6f90",
   "metadata": {},
   "outputs": [],
   "source": [
    "X_train = dftr[['delta_power', 'theta_power', 'low_beta_power', 'high_beta_power', 'theta_to_delta_ratio', 'low_beta_to_delta_ratio', 'high_beta_to_delta_ratio']]\n",
    "y_train = dftr_values"
   ]
  },
  {
   "cell_type": "code",
   "execution_count": 15,
   "id": "063c4b22",
   "metadata": {},
   "outputs": [],
   "source": [
    "X_test = dfte[['delta_power', 'theta_power', 'low_beta_power', 'high_beta_power', 'theta_to_delta_ratio', 'low_beta_to_delta_ratio', 'high_beta_to_delta_ratio']]\n",
    "y_test = dfte_values"
   ]
  },
  {
   "cell_type": "code",
   "execution_count": 16,
   "id": "35b1c079",
   "metadata": {},
   "outputs": [],
   "source": [
    "scaler = StandardScaler()\n",
    "scaled_data = scaler.fit_transform(X_train)\n",
    "scaled_df = pd.DataFrame(scaled_data, columns=X_train.columns)\n",
    "X_train = scaled_df"
   ]
  },
  {
   "cell_type": "code",
   "execution_count": 17,
   "id": "a243feee",
   "metadata": {},
   "outputs": [],
   "source": [
    "scaler = StandardScaler()\n",
    "scaled_data = scaler.fit_transform(X_test)\n",
    "scaled_df = pd.DataFrame(scaled_data, columns=X_test.columns)\n",
    "X_test = scaled_df"
   ]
  },
  {
   "cell_type": "code",
   "execution_count": 32,
   "id": "9ef8ff06",
   "metadata": {},
   "outputs": [
    {
     "name": "stdout",
     "output_type": "stream",
     "text": [
      "67.53858 %\n"
     ]
    }
   ],
   "source": [
    "lr = LogisticRegression(class_weight = 'balanced')\n",
    "lr.fit(X_train, y_train);\n",
    "y_pred = lr.predict(X_test)\n",
    "print(round(accuracy_score(y_test, y_pred)*100,5), \"%\")"
   ]
  },
  {
   "cell_type": "code",
   "execution_count": 33,
   "id": "72a822d6",
   "metadata": {},
   "outputs": [
    {
     "data": {
      "text/plain": [
       "array([[ 2578,   136,   340],\n",
       "       [  965, 21218,   778],\n",
       "       [10513,  4096, 11216]], dtype=int64)"
      ]
     },
     "execution_count": 33,
     "metadata": {},
     "output_type": "execute_result"
    }
   ],
   "source": [
    "cnf_matrix_xgo = metrics.confusion_matrix(y_test, y_pred)\n",
    "cnf_matrix_xgo"
   ]
  },
  {
   "cell_type": "code",
   "execution_count": 34,
   "id": "b4e54994",
   "metadata": {},
   "outputs": [
    {
     "data": {
      "text/plain": [
       "Text(0.5, 257.44, 'Predicted label')"
      ]
     },
     "execution_count": 34,
     "metadata": {},
     "output_type": "execute_result"
    },
    {
     "data": {
      "image/png": "[encoded data removed]",
      "text/plain": [
       "<Figure size 432x288 with 2 Axes>"
      ]
     },
     "metadata": {
      "needs_background": "light"
     },
     "output_type": "display_data"
    }
   ],
   "source": [
    "class_names=[0,1]\n",
    "fig, ax = plt.subplots()\n",
    "tick_marks = np.arange(len(class_names))\n",
    "plt.xticks(tick_marks, class_names)\n",
    "plt.yticks(tick_marks, class_names)\n",
    "sns.heatmap(pd.DataFrame(cnf_matrix_xgo), annot=True, cmap=\"YlGnBu\" ,fmt='g')\n",
    "ax.xaxis.set_label_position(\"top\")\n",
    "plt.tight_layout()\n",
    "plt.title('Confusion matrix', y=1.1)\n",
    "plt.ylabel('Actual label')\n",
    "plt.xlabel('Predicted label')"
   ]
  },
  {
   "cell_type": "code",
   "execution_count": 35,
   "id": "d43fe567",
   "metadata": {},
   "outputs": [
    {
     "name": "stdout",
     "output_type": "stream",
     "text": [
      "Accuracy: 0.6753858024691358\n",
      "              precision    recall  f1-score   support\n",
      "\n",
      "           0       0.18      0.84      0.30      3054\n",
      "           1       0.83      0.92      0.88     22961\n",
      "           2       0.91      0.43      0.59     25825\n",
      "\n",
      "    accuracy                           0.68     51840\n",
      "   macro avg       0.64      0.73      0.59     51840\n",
      "weighted avg       0.83      0.68      0.70     51840\n",
      "\n"
     ]
    }
   ],
   "source": [
    "#xgb optimized\n",
    "accuracy = accuracy_score(y_test, y_pred)\n",
    "print(f\"Accuracy: {accuracy}\")\n",
    "\n",
    "# Detailed classification report\n",
    "print(classification_report(y_test, y_pred))"
   ]
  },
  {
   "cell_type": "code",
   "execution_count": 24,
   "id": "f18ec6f6",
   "metadata": {},
   "outputs": [
    {
     "name": "stderr",
     "output_type": "stream",
     "text": [
      "C:\\Users\\aveng\\anaconda3\\lib\\site-packages\\sklearn\\model_selection\\_search.py:292: UserWarning: The total space of parameters 20 is smaller than n_iter=50. Running 20 iterations. For exhaustive searches, use GridSearchCV.\n",
      "  warnings.warn(\n"
     ]
    },
    {
     "name": "stdout",
     "output_type": "stream",
     "text": [
      "Fitting 5 folds for each of 20 candidates, totalling 100 fits\n",
      "Best Parameters: {'n_estimators': 50, 'learning_rate': 0.01}\n",
      "Best Score: 0.8200347222222222\n"
     ]
    }
   ],
   "source": [
    "# AdaBoost with DecisionTreeClassifier as base estimator\n",
    "adaboost_model = AdaBoostClassifier(base_estimator=DecisionTreeClassifier(random_state=42), random_state=42)\n",
    "\n",
    "# Define the parameter grid for AdaBoost\n",
    "param_grid_adaboost = {\n",
    "    'n_estimators': [50, 100, 150, 200],\n",
    "    'learning_rate': [0.01, 0.05, 0.1, 0.2, 0.5]\n",
    "}\n",
    "\n",
    "# Setup K-Fold cross-validation\n",
    "kf = KFold(n_splits=5, random_state=42, shuffle=True)\n",
    "\n",
    "# Random search of parameters using K-Fold CV\n",
    "random_search_adaboost = RandomizedSearchCV(estimator=adaboost_model, param_distributions=param_grid_adaboost, n_iter=50, cv=kf, verbose=2, random_state=42, n_jobs=-1)\n",
    "\n",
    "# Fit the random search model\n",
    "random_search_adaboost.fit(X_train, y_train)\n",
    "\n",
    "# Print the best parameters and best score\n",
    "print(\"Best Parameters:\", random_search_adaboost.best_params_)\n",
    "print(\"Best Score:\", random_search_adaboost.best_score_)\n",
    "\n",
    "# Use the best estimator to make predictions\n",
    "best_adaboost_model = random_search_adaboost.best_estimator_\n",
    "adaboost_predictions = best_adaboost_model.predict(X_test)"
   ]
  },
  {
   "cell_type": "code",
   "execution_count": 28,
   "id": "35185154",
   "metadata": {},
   "outputs": [
    {
     "data": {
      "text/plain": [
       "array([[ 1381,   143,  1530],\n",
       "       [  457, 16442,  6062],\n",
       "       [ 6210,  2799, 16816]], dtype=int64)"
      ]
     },
     "execution_count": 28,
     "metadata": {},
     "output_type": "execute_result"
    }
   ],
   "source": [
    "cnf_matrix_xgo = metrics.confusion_matrix(y_test, adaboost_predictions)\n",
    "cnf_matrix_xgo"
   ]
  },
  {
   "cell_type": "code",
   "execution_count": 29,
   "id": "83ca8be6",
   "metadata": {},
   "outputs": [
    {
     "data": {
      "text/plain": [
       "Text(0.5, 257.44, 'Predicted label')"
      ]
     },
     "execution_count": 29,
     "metadata": {},
     "output_type": "execute_result"
    },
    {
     "data": {
      "image/png": "[encoded data removed]",
      "text/plain": [
       "<Figure size 432x288 with 2 Axes>"
      ]
     },
     "metadata": {
      "needs_background": "light"
     },
     "output_type": "display_data"
    }
   ],
   "source": [
    "class_names=[0,1]\n",
    "fig, ax = plt.subplots()\n",
    "tick_marks = np.arange(len(class_names))\n",
    "plt.xticks(tick_marks, class_names)\n",
    "plt.yticks(tick_marks, class_names)\n",
    "sns.heatmap(pd.DataFrame(cnf_matrix_xgo), annot=True, cmap=\"YlGnBu\" ,fmt='g')\n",
    "ax.xaxis.set_label_position(\"top\")\n",
    "plt.tight_layout()\n",
    "plt.title('Confusion matrix', y=1.1)\n",
    "plt.ylabel('Actual label')\n",
    "plt.xlabel('Predicted label')"
   ]
  },
  {
   "cell_type": "code",
   "execution_count": 31,
   "id": "5329d906",
   "metadata": {},
   "outputs": [
    {
     "name": "stdout",
     "output_type": "stream",
     "text": [
      "Accuracy: 0.668190586419753\n",
      "              precision    recall  f1-score   support\n",
      "\n",
      "           0       0.17      0.45      0.25      3054\n",
      "           1       0.85      0.72      0.78     22961\n",
      "           2       0.69      0.65      0.67     25825\n",
      "\n",
      "    accuracy                           0.67     51840\n",
      "   macro avg       0.57      0.61      0.56     51840\n",
      "weighted avg       0.73      0.67      0.69     51840\n",
      "\n"
     ]
    }
   ],
   "source": [
    "#xgb optimized\n",
    "accuracy = accuracy_score(y_test, adaboost_predictions)\n",
    "print(f\"Accuracy: {accuracy}\")\n",
    "\n",
    "# Detailed classification report\n",
    "print(classification_report(y_test, adaboost_predictions))"
   ]
  },
  {
   "cell_type": "code",
   "execution_count": 18,
   "id": "61b3b552",
   "metadata": {},
   "outputs": [
    {
     "name": "stdout",
     "output_type": "stream",
     "text": [
      "Fitting 5 folds for each of 50 candidates, totalling 250 fits\n",
      "Best Parameters: {'subsample': 0.6, 'n_estimators': 200, 'min_child_weight': 5, 'max_depth': 6, 'learning_rate': 0.05, 'gamma': 0.2, 'colsample_bytree': 0.6}\n",
      "Best Score: 0.8825694444444444\n"
     ]
    }
   ],
   "source": [
    "#XGBM 2 optimized\n",
    "xgbmo = xgb.XGBClassifier(objective='multi:softprob', num_class=3, random_state=42)\n",
    "\n",
    "# Define the parameter grid\n",
    "param_grid = {\n",
    "    'n_estimators': [100, 200, 300, 400],\n",
    "    'learning_rate': [0.01, 0.05, 0.1, 0.2],\n",
    "    'max_depth': [3, 4, 5, 6],\n",
    "    'min_child_weight': [1, 3, 5, 7],\n",
    "    'gamma': [0.0, 0.1, 0.2, 0.3],\n",
    "    'subsample': [0.6, 0.8, 1.0],\n",
    "    'colsample_bytree': [0.6, 0.8, 1.0]\n",
    "}\n",
    "\n",
    "#Add in cross validation\n",
    "#Setup K-Fold cross-validation\n",
    "kf = KFold(n_splits=5, random_state=42, shuffle=True)\n",
    "\n",
    "#Random search of parameters using K-Fold CV\n",
    "random_search = RandomizedSearchCV(estimator=xgbmo, param_distributions=param_grid, n_iter=50, cv=kf, verbose=2, random_state=42, n_jobs=-1)\n",
    "\n",
    "#Fit the random search model\n",
    "random_search.fit(X_train, y_train)\n",
    "\n",
    "# Print the best parameters and best score\n",
    "print(\"Best Parameters:\", random_search.best_params_)\n",
    "print(\"Best Score:\", random_search.best_score_)\n",
    "\n",
    "# Use the best estimator to make predictions\n",
    "best_model = random_search.best_estimator_\n",
    "predictions = best_model.predict(X_test)"
   ]
  },
  {
   "cell_type": "code",
   "execution_count": 19,
   "id": "aabe60ff",
   "metadata": {},
   "outputs": [
    {
     "data": {
      "text/plain": [
       "array([[ 1354,    98,  1602],\n",
       "       [  179, 18453,  4329],\n",
       "       [ 2695,  1924, 21206]], dtype=int64)"
      ]
     },
     "execution_count": 19,
     "metadata": {},
     "output_type": "execute_result"
    }
   ],
   "source": [
    "cnf_matrix_xgo = metrics.confusion_matrix(y_test, predictions)\n",
    "cnf_matrix_xgo"
   ]
  },
  {
   "cell_type": "code",
   "execution_count": 20,
   "id": "f4fb4bfc",
   "metadata": {},
   "outputs": [
    {
     "data": {
      "text/plain": [
       "Text(0.5, 257.44, 'Predicted label')"
      ]
     },
     "execution_count": 20,
     "metadata": {},
     "output_type": "execute_result"
    },
    {
     "data": {
      "image/png": "[encoded data removed]",
      "text/plain": [
       "<Figure size 432x288 with 2 Axes>"
      ]
     },
     "metadata": {
      "needs_background": "light"
     },
     "output_type": "display_data"
    }
   ],
   "source": [
    "class_names=[0,1]\n",
    "fig, ax = plt.subplots()\n",
    "tick_marks = np.arange(len(class_names))\n",
    "plt.xticks(tick_marks, class_names)\n",
    "plt.yticks(tick_marks, class_names)\n",
    "sns.heatmap(pd.DataFrame(cnf_matrix_xgo), annot=True, cmap=\"YlGnBu\" ,fmt='g')\n",
    "ax.xaxis.set_label_position(\"top\")\n",
    "plt.tight_layout()\n",
    "plt.title('Confusion matrix', y=1.1)\n",
    "plt.ylabel('Actual label')\n",
    "plt.xlabel('Predicted label')"
   ]
  },
  {
   "cell_type": "code",
   "execution_count": 21,
   "id": "ab51e466",
   "metadata": {},
   "outputs": [
    {
     "name": "stdout",
     "output_type": "stream",
     "text": [
      "Accuracy: 0.7911458333333333\n",
      "              precision    recall  f1-score   support\n",
      "\n",
      "           0       0.32      0.44      0.37      3054\n",
      "           1       0.90      0.80      0.85     22961\n",
      "           2       0.78      0.82      0.80     25825\n",
      "\n",
      "    accuracy                           0.79     51840\n",
      "   macro avg       0.67      0.69      0.67     51840\n",
      "weighted avg       0.81      0.79      0.80     51840\n",
      "\n"
     ]
    }
   ],
   "source": [
    "#xgb optimized\n",
    "accuracy = accuracy_score(y_test, predictions)\n",
    "print(f\"Accuracy: {accuracy}\")\n",
    "\n",
    "# Detailed classification report\n",
    "print(classification_report(y_test, predictions))"
   ]
  },
  {
   "cell_type": "code",
   "execution_count": 22,
   "id": "5c76a6c6",
   "metadata": {},
   "outputs": [
    {
     "data": {
      "image/png": "[encoded data removed]",
      "text/plain": [
       "<Figure size 432x288 with 1 Axes>"
      ]
     },
     "metadata": {
      "needs_background": "light"
     },
     "output_type": "display_data"
    }
   ],
   "source": [
    "xgb.plot_importance(best_model, max_num_features = 7)\n",
    "plt.show()"
   ]
  }
 ],
 "metadata": {
  "kernelspec": {
   "display_name": "Python 3 (ipykernel)",
   "language": "python",
   "name": "python3"
  },
  "language_info": {
   "codemirror_mode": {
    "name": "ipython",
    "version": 3
   },
   "file_extension": ".py",
   "mimetype": "text/x-python",
   "name": "python",
   "nbconvert_exporter": "python",
   "pygments_lexer": "ipython3",
   "version": "3.9.12"
  }
 },
 "nbformat": 4,
 "nbformat_minor": 5
}
